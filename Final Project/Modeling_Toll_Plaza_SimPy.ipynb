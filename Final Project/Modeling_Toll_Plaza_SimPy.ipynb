{
 "cells": [
  {
   "cell_type": "markdown",
   "metadata": {},
   "source": [
    "## DATA604 FINAL PROJECT | Toll Plaza Simulation Using SimPy\n",
    "**By Abdellah Ait Elmouden**"
   ]
  },
  {
   "cell_type": "markdown",
   "metadata": {},
   "source": [
    "### Abstract\n",
    "\n",
    "When a toll plaza is designed, choosing the right number of tollbooths is a critical issue. In this paper, we try to determine the optimal number of tollbooths by creating a model for traffic in a toll plaza. After discussing the natural behavior of traffic and making a few reasonable assumptions to simplify traffic streams in a toll plaza, we'll try to simulate this process unsing simpy. The SimPy ibrary provides support for describing and running DES models in Python.  it is not a complete graphical environment for building, executing and reporting upon simulations; however, it does provide the fundamental components."
   ]
  },
  {
   "cell_type": "markdown",
   "metadata": {},
   "source": [
    "###  Problem Statement"
   ]
  },
  {
   "cell_type": "markdown",
   "metadata": {},
   "source": [
    "Suppose a state highway department is planning a new toll exit for an existing turnpike. The number of toll booths to put at the exit is in question. The department wants to keep costs low by having as few booths as possible. but if the waiting lines get too long during rush hour and other peak periods it will hurt public relations, reduce the number of people who will use the exit, and, in the worst case, back waiting vehicles onto the highway-an unacceptable and potentially hazardous situation. The highway department believes that no more than six cars-on average across the lines-should be stored in the waiting lines during rush hour, but is willing to examine other average waiting-line lengths.\n",
    "\n",
    "For obvious reasons, we don’t want to build too many toll booths unnecessarily, and we don’t want to build too few since that will jam the traffic. We describe the situation and how drivers behave when they approach the toll plaza in the following : \n",
    "\n",
    "1. Cars arrive at the the toll Plaza, \n",
    "2. Cars enter the queuing area and stop at the end of a tollbooth line (track)\n",
    "2. Driver Pay toll at the toll booth.\n",
    "4. Driver leave the tollbooths after gate to open.\n"
   ]
  },
  {
   "cell_type": "markdown",
   "metadata": {},
   "source": [
    "**Assumptions**\n",
    "\n",
    "- The traffic flow is constant in a short period.\n",
    "- The traffic streams fan out into tollbooths smoothly and evenly.\n",
    "- The drivers are delayed by waiting in lines for toll collection.\n",
    "- The drivers are delayed by toll collection, and the delay is distributed exponentially.\n",
    "\n",
    "![alt text](images/chart.png)"
   ]
  },
  {
   "cell_type": "markdown",
   "metadata": {},
   "source": [
    "**Necessary packages**"
   ]
  },
  {
   "cell_type": "code",
   "execution_count": 9,
   "metadata": {},
   "outputs": [],
   "source": [
    "import simpy\n",
    "import pylab as pyl\n",
    "import random\n",
    "import statistics\n",
    "import pandas as pd\n",
    "from modsim import *\n",
    "%matplotlib inline"
   ]
  },
  {
   "cell_type": "markdown",
   "metadata": {},
   "source": [
    "### Setting Up the Environment"
   ]
  },
  {
   "cell_type": "code",
   "execution_count": 3,
   "metadata": {},
   "outputs": [],
   "source": [
    "wait_times = []"
   ]
  },
  {
   "cell_type": "code",
   "execution_count": 7,
   "metadata": {},
   "outputs": [],
   "source": [
    "# Let's pre-generate all the car arrival times \n",
    "# change the configuration, we'll have consistent arrivals\n",
    "random.seed(42)\n",
    "\n",
    "flow = 0.5 #  (cars/per second) [0.1, 0.5, 1.0, 1.5, 2.0, 2.5, 3.0, 3.5, 4] \n",
    "nextCarArrive = [ random.expovariate(1 / flow) for _ in range(40) ]"
   ]
  },
  {
   "cell_type": "code",
   "execution_count": 8,
   "metadata": {},
   "outputs": [
    {
     "name": "stdout",
     "output_type": "stream",
     "text": [
      "Input # of booths working: 4\n",
      "Running simulation... \n",
      "The average wait time is 33.0 minutes and 43.0 seconds.\n"
     ]
    }
   ],
   "source": [
    "#####################################\n",
    "# Create the simulation Environment\n",
    "#####################################\n",
    "\n",
    "class Toll_plaza(object): \n",
    "    \"\"\"\n",
    "    Create the toll plaza Environment\n",
    "    num_booths : The number of toll booths to put at the exit is in question. we'll try different numbers\n",
    "    pay_toll : pay toll event function, initiated by the driver\n",
    "    \"\"\"\n",
    "    def __init__(self, env, num_booths):\n",
    "        self.env = env # declare the toll plaza as an actual environment\n",
    "        self.booth = simpy.Resource(env, num_booths) # declare the booth resource.\n",
    "\n",
    "    def pay_toll(self, driver):\n",
    "        yield self.env.timeout(random.randint(1, 3)) # we'll assume that it takes between 1 to 4 minute to service a car and gate to open\n",
    "\n",
    "                     \n",
    "#####################################\n",
    "# Use the Environment\n",
    "#####################################\n",
    "        \n",
    "def merge_to_toll(env, driver, toll_plaza):\n",
    "    \"\"\"Function to Move through the environment\n",
    "    we created. driver arrives at the toll_plaza\"\"\"\n",
    "    \n",
    "    arrival_time = env.now # arrival_time to hold the time at which each driver arrives at the toll plaza.\n",
    "    \n",
    "    \n",
    "    with toll_plaza.booth.request() as request: # The driver generates a request to use a booth, and automatically release the resource once the process is complete.\n",
    "        yield request # The driver waits for a booth to become available if all are currently in use.\n",
    "        yield env.process(toll_plaza.pay_toll(driver)) # The driver uses an available booth to complete the given process. \n",
    "\n",
    "    wait_times.append(env.now - arrival_time) # to get the time at which the driver has finished all processes and exit the toll.\n",
    "    # print(\"check the times\", env.now, arrival_time, env.now - arrival_time)\n",
    "\n",
    "\n",
    "#####################################\n",
    "# Run the simulation \n",
    "#####################################\n",
    "\n",
    "def run_toll_plaza(env, num_booths):\n",
    "    \"\"\"Function to run the simulation\"\"\"\n",
    "    \n",
    "    toll_plaza = Toll_plaza(env, num_booths)\n",
    "    \n",
    "    for driver in nextCarArrive:  # sampling from the exp distribution\n",
    "        env.process(merge_to_toll(env, driver, toll_plaza))\n",
    "\n",
    "    while True:\n",
    "        yield env.timeout(0.20)  # assume that cars arrive to the toll on average, every 12 seconds\n",
    "\n",
    "        driver += 1\n",
    "        env.process(merge_to_toll(env, driver, toll_plaza))\n",
    "        \n",
    "#######################################\n",
    "        \n",
    "def get_average_wait_time(wait_times):\n",
    "    average_wait = statistics.mean(wait_times)\n",
    "    # Pretty print the results\n",
    "    minutes, frac_minutes = divmod(average_wait, 1)\n",
    "    seconds = frac_minutes * 60\n",
    "    return round(minutes), round(seconds)\n",
    "########################################\n",
    "\n",
    "#####################################\n",
    "# Select the number of booths\n",
    "#####################################\n",
    "\n",
    "def get_user_input():\n",
    "    num_booths = input(\"Input # of booths working: \")\n",
    "    \n",
    "    try:\n",
    "        params = int(num_booths)\n",
    "    except ValueError:\n",
    "        print(\"That's not an int!\")\n",
    "    return params\n",
    "\n",
    "#####################################\n",
    "# Main Function Definition to ensure the script runs in the proper order\n",
    "#####################################\n",
    "\n",
    "def main():\n",
    "    \n",
    "    # Setup\n",
    "    random.seed(42)\n",
    "    num_booths = get_user_input()   # The number of toll booths to put at the exit is in question\n",
    "    \n",
    "    # Run the simulation\n",
    "\n",
    "    env = simpy.Environment()    \n",
    "    env.process(run_toll_plaza(env, num_booths))\n",
    "    env.run(until=90)\n",
    "      \n",
    "    # View the results\n",
    "    mins, secs = get_average_wait_time(wait_times)\n",
    "    print(\n",
    "            \"Running simulation...\",\n",
    "            f\"\\nThe average wait time is {mins} minutes and {secs} seconds.\",\n",
    "        )\n",
    "\n",
    "if __name__ == \"__main__\":\n",
    "    main()"
   ]
  },
  {
   "cell_type": "markdown",
   "metadata": {},
   "source": [
    "### Conclusion"
   ]
  },
  {
   "cell_type": "markdown",
   "metadata": {},
   "source": [
    "Whoever is using this simulation he will be able to change the values of these parameters to try out different scenarios. We can input different numbers of tollboths values to see which numbers offer an optimal solution.\n",
    "This simulation was a good start for me to learned how to build and run a simulation in Python using the simpy framework, I’ve come to understand how systems have agents undergo processes, and how I can create virtual representations of those systems, also it was an opportunity for me to learn about object-oriented programming, classes and methods. however I still need to learn more about simpy to monitor simulation, and add animation using other python libraries such as tkinter.\n",
    "However the simulation didn't include other parameters when solving a transportion problem, such as merging wasted time, number of lanes...etc. for this reasom I created an other model for the same problem where i included all the other parameters, and include more details. the model is available in the same folder."
   ]
  },
  {
   "cell_type": "markdown",
   "metadata": {},
   "source": [
    "### Reference"
   ]
  },
  {
   "cell_type": "markdown",
   "metadata": {},
   "source": [
    "- [Simulating Real-Life Events in Python with SimPy](https://www2.dattivo.com/simulating-real-life-events-in-python-with-simpy/)\n",
    "- [Simpy simulation examples](https://simpy.readthedocs.io/en/latest/examples/)"
   ]
  },
  {
   "cell_type": "code",
   "execution_count": null,
   "metadata": {},
   "outputs": [],
   "source": []
  }
 ],
 "metadata": {
  "kernelspec": {
   "display_name": "Python 3",
   "language": "python",
   "name": "python3"
  },
  "language_info": {
   "codemirror_mode": {
    "name": "ipython",
    "version": 3
   },
   "file_extension": ".py",
   "mimetype": "text/x-python",
   "name": "python",
   "nbconvert_exporter": "python",
   "pygments_lexer": "ipython3",
   "version": "3.7.6"
  }
 },
 "nbformat": 4,
 "nbformat_minor": 4
}
