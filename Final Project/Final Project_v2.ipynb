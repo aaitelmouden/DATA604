{
 "cells": [
  {
   "cell_type": "markdown",
   "metadata": {},
   "source": [
    "## DATA604 FINAL PROJECT | Toll Plaza Simulation"
   ]
  },
  {
   "cell_type": "markdown",
   "metadata": {},
   "source": [
    "### Introduction\n",
    "\n",
    "Paying toll to be able to travel to one's destination is largely viewed as an inconvenience.  Americans have, for the most part, come to view having free, open roads as an inalienable right from our government.  Toll roads are then aberrant and annoying. But  the  vexing  aspects  of  toll  roads  do  not  stop  at  the  quarter  or  35-cent  fee,  but rather include the time that drivers are forced to waste. Drivers have places to be and people to see, but for one reason or another, tolls must at times be collected from them.  Our goal in this project is to make the process more optimal for everyone involved, including the owners and operators of the booths, and of  course  the  drivers.    The  only  mechanism  for  optimization  at  our  disposal  is, presumably, adjustment of the number of booths present at a certain toll plaza, given the number of lanes entering and exiting it."
   ]
  },
  {
   "cell_type": "markdown",
   "metadata": {},
   "source": [
    "###  Problem Statement and Assumptions"
   ]
  },
  {
   "cell_type": "markdown",
   "metadata": {},
   "source": [
    "Suppose a state highway department is planning a new toll exit for an existing turnpike. The number of toll booths to put at the exit is in question. The department wants to keep costs low by having as few booths as possible. but if the waiting lines get too long during rush hour and other peak periods it will hurt public relations, reduce the number of people who will use the exit, and, in the worst case, back waiting vehicles onto the highway-an unacceptable and potentially hazardous situation. The highway department believes that no more than six cars-on average across the lines-should be stored in the waiting lines during rush hour, but is willing to examine other average waiting-line lengths.\n",
    "\n",
    "For obvious reasons, we don’t want to build too many toll booths unnecessarily, and we don’t want to build too few since that will jam the traffic. We describe the situation and how drivers behave when they approach the toll plaza in the following : \n",
    "\n",
    "1. Suppose that there are n toll booths in a toll plaza. For the safety reason, in front of each toll booth, we build a track for as many as 6 cars to wait in the line for paying toll, and once a car has driven into a track, the car can’t back up and change to another track.\n",
    "\n",
    "2. For any car arriving the toll plaza, the driver always drives to a free booth, if any, and pays the tollright away without waiting in the line.\n",
    "\n",
    "3. If no free booth available, the driver always selects a booth with the fewest cars in the track andget into the line (track). If there are more than one track with the same smallest number of cars inthem, the arriving driver will randomly pick up one. Because each car in the line may need different amount of time to pay the toll and the driver behind can’t predict this in advance, getting into the shortest line can’t guarantee the car can pass the booth faster than getting into a longer line, but the drive can’t do anything about it.\n",
    "\n",
    "4. If all n tracks are full, every track already has 6 cars waiting, the newly arrived cars will be waiting in line on the open road for next available track. We can consider the capacity of the open road infinite. If some track become available, the car at the front end of the open road will get into the track. We assume there is only one line in the open road. If there are more one track become available, the driver will apply the same strategy to select a booth, i.e., going into the one with the shortest line."
   ]
  },
  {
   "cell_type": "markdown",
   "metadata": {},
   "source": [
    "### Simulation Process"
   ]
  },
  {
   "cell_type": "markdown",
   "metadata": {},
   "source": []
  },
  {
   "cell_type": "code",
   "execution_count": 13,
   "metadata": {},
   "outputs": [],
   "source": [
    "import itertools\n",
    "from collections import defaultdict\n",
    "\n",
    "import random\n",
    "import numpy as np\n",
    "import pandas as pd\n",
    "import math\n",
    "import time\n",
    "\n",
    "import simpy\n",
    "\n",
    "import json\n",
    "\n",
    "from matplotlib.backends.backend_tkagg import FigureCanvasTkAgg\n",
    "import matplotlib.pyplot as plt\n",
    "\n",
    "import tkinter as tk\n",
    "from PIL import ImageTk"
   ]
  },
  {
   "cell_type": "code",
   "execution_count": null,
   "metadata": {},
   "outputs": [],
   "source": [
    "# -------------------------\n",
    "#  CONFIGURATION\n",
    "# -------------------------\n",
    "\n",
    "CAR_ARRIVAL_MEAN = 3\n",
    "\n",
    "TOLL_PAYMENT_MEAN = 0.4\n",
    "\n",
    "TIME_TO_DRIVE_TO_BOOTH_MEAN = 1\n",
    "TIME_TO_DRIVE_TO_BOOTH_STD = 0.25\n",
    "TIME_TO_DRIVE_TO_EZPASS_MEAN = 0.5\n",
    "TIME_TO_DRIVE_TO_EZPASS_STD = 0.1\n",
    "\n",
    "TOLL_LINES = 4\n",
    "TOLL_MEAN = 1\n",
    "TOLL_STD = 0.2\n",
    "\n",
    "EZPASS_LINES = 2\n",
    "EZPASS_MEAN = 1 / 20\n",
    "EZPASS_STD = 0.01\n"
   ]
  },
  {
   "cell_type": "code",
   "execution_count": null,
   "metadata": {},
   "outputs": [],
   "source": [
    "# Let's pre-generate all the car arrival times \n",
    "# change the configuration, we'll have consistent arrivals\n",
    "random.seed(42)\n",
    "ARRIVALS = [ random.expovariate(1 / CAR_ARRIVAL_MEAN) for _ in range(40) ]"
   ]
  },
  {
   "cell_type": "code",
   "execution_count": null,
   "metadata": {},
   "outputs": [],
   "source": [
    "# -------------------------\n",
    "#  ANALYTICAL GLOBALS\n",
    "# -------------------------\n",
    "\n",
    "arrivals = defaultdict(lambda: 0)\n",
    "toll_waits = defaultdict(lambda: [])\n",
    "ezpass_waits = defaultdict(lambda: [])\n",
    "event_log = []\n",
    "\n",
    "\n",
    "def booth_arrivals(time, num):\n",
    "    arrivals[int(time)] += num\n",
    "    \n",
    "def register_seller_wait(time, wait):\n",
    "    toll_waits[int(time)].append(wait)"
   ]
  }
 ],
 "metadata": {
  "kernelspec": {
   "display_name": "Python 3",
   "language": "python",
   "name": "python3"
  },
  "language_info": {
   "codemirror_mode": {
    "name": "ipython",
    "version": 3
   },
   "file_extension": ".py",
   "mimetype": "text/x-python",
   "name": "python",
   "nbconvert_exporter": "python",
   "pygments_lexer": "ipython3",
   "version": "3.7.6"
  }
 },
 "nbformat": 4,
 "nbformat_minor": 4
}
