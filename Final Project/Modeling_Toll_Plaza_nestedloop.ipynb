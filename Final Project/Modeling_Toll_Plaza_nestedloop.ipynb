{
 "cells": [
  {
   "cell_type": "markdown",
   "metadata": {},
   "source": [
    "## DATA604 FINAL PROJECT | Toll Plaza Simulation\n",
    "**By Abdellah Ait Elmouden**"
   ]
  },
  {
   "cell_type": "markdown",
   "metadata": {},
   "source": [
    "### Abstract\n",
    "\n",
    "When a toll plaza is designed, choosing the right number of tollbooths is a critical issue. In this paper, we try to determine the optimal number of tollbooths by creating a model for traffic in a toll plaza. After discussing the natural behavior of traffic and making a few reasonable assumptions to simplify traffic streams in a toll plaza, we'll try to simulate this process unsing a Python program."
   ]
  },
  {
   "cell_type": "markdown",
   "metadata": {},
   "source": [
    "###  Problem Statement"
   ]
  },
  {
   "cell_type": "markdown",
   "metadata": {},
   "source": [
    "Suppose a state highway department is planning a new toll exit for an existing turnpike. The number of toll booths to put at the exit is in question. The department wants to keep costs low by having as few booths as possible. but if the waiting lines get too long during rush hour and other peak periods it will hurt public relations, reduce the number of people who will use the exit, and, in the worst case, back waiting vehicles onto the highway-an unacceptable and potentially hazardous situation. The highway department believes that no more than six cars-on average across the lines-should be stored in the waiting lines during rush hour, but is willing to examine other average waiting-line lengths.\n",
    "\n",
    "For obvious reasons, we don’t want to build too many toll booths unnecessarily, and we don’t want to build too few since that will jam the traffic. We describe the situation and how drivers behave when they approach the toll plaza in the following : \n",
    "\n",
    "1. Cars arrive at the the toll Plaza, \n",
    "2. Cars enter the queuing area and stop at the end of a tollbooth line (track)\n",
    "2. Driver Pay toll at the toll booth.\n",
    "4. Driver leave the tollbooths and merge to traffic lane.\n",
    "\n",
    "traffic delay in a toll plaza is caused by toll collection (delay in tollbooths)and car stream merging (at merging\n",
    "points). Modelling the stream merging is more complex, so will only model the delay in tollbooths and estimate the mergin wasted time.\n"
   ]
  },
  {
   "cell_type": "markdown",
   "metadata": {},
   "source": [
    "### Wasted Time - Tollbooth"
   ]
  },
  {
   "cell_type": "markdown",
   "metadata": {},
   "source": [
    "Given the above definitions the arrival rate of each tollbooth is Φ/T . From the arrival rate and service rate of the tollbooth, according to the performance measure formula, the average service time of each tollbooth is **eq.1**\n",
    "\n",
    "$$w_A= \\frac{1}{\\mu_A - \\phi/T}$$"
   ]
  },
  {
   "cell_type": "markdown",
   "metadata": {},
   "source": [
    "### Wasted Time - Merging Point"
   ]
  },
  {
   "cell_type": "markdown",
   "metadata": {},
   "source": [
    "A merging point is modeled as a Markovian system as depicted in below Figure, where each state represents the number of vehicles in the system. Notice the single μ 0 in Figure 3 which represents the possibility of no merging conflicts. The arrival rate is some value λ. We will calculate the average wasted time t_diff(λ) after first calculating the average waiting time in\n",
    "the system t_sys(λ).\n",
    "\n",
    "**Figure: Merging points and conflicting lanes**\n",
    "![alt text](images/merging.png)\n",
    "\n",
    "\n",
    "By Little’s Theorem, the average waiting time in the system t sys (λ) equals the expected\n",
    "number of drivers in the system L(λ) divided by the arrival rate λ\n",
    "\n",
    "![alt text](images/tsys.png)\n",
    "\n",
    "The average wasted time of a driver at a merging point is the difference between t sys and the time he or she would spend on a normal lane. The expected time a driver spends when no merging happens is 1/μ0 . Hence,\n",
    "**eq.2**\n",
    "\n",
    "![alt text](images/tdiff.png)\n",
    "\n",
    "Wasted Time - Total Merging Process **eq.3**\n",
    "\n",
    "![alt text](images/wasted.png)\n",
    "\n",
    "The overall wasted time is the weighted sum **eq.4**:\n",
    "the average wasted time a driver spends in the entire toll plaza is the sum of w A and w B .\n",
    "\n",
    "$$w_{total} = w_A + w_B$$\n",
    "\n"
   ]
  },
  {
   "cell_type": "markdown",
   "metadata": {},
   "source": [
    "**Assumptions**\n",
    "\n",
    "- The traffic flow is constant in a short period.\n",
    "- The traffic streams fan out into tollbooths smoothly and evenly.\n",
    "- The drivers are delayed by waiting in lines for toll collection.\n",
    "- The drivers are delayed by toll collection, and the delay is distributed exponentially.\n"
   ]
  },
  {
   "cell_type": "markdown",
   "metadata": {},
   "source": [
    "### Toll Plaza Simulation flowchart\n",
    "\n",
    "![alt text](images/chart1.png)"
   ]
  },
  {
   "cell_type": "markdown",
   "metadata": {},
   "source": [
    "**Necessary packages**"
   ]
  },
  {
   "cell_type": "code",
   "execution_count": 447,
   "metadata": {},
   "outputs": [],
   "source": [
    "import simpy\n",
    "import pylab as pyl\n",
    "import random\n",
    "import statistics\n",
    "import pandas as pd\n",
    "from modsim import *\n",
    "%matplotlib inline"
   ]
  },
  {
   "cell_type": "markdown",
   "metadata": {},
   "source": [
    "### Setting Up the Environment"
   ]
  },
  {
   "cell_type": "code",
   "execution_count": 448,
   "metadata": {},
   "outputs": [],
   "source": [
    "wait_times = []\n",
    "service_rate = []"
   ]
  },
  {
   "cell_type": "code",
   "execution_count": 449,
   "metadata": {},
   "outputs": [],
   "source": [
    "######################\n",
    "# Model Parameters\n",
    "######################\n",
    "\n",
    "# Let's pre-generate all the car arrival times \n",
    "# change the configuration, we'll have consistent arrivals\n",
    "random.seed(42)\n",
    "\n",
    "service_rate = 5 # Service rate at a tollbooth (veh/hr)\n",
    "#booth_arrival_rate = Φ/T\n",
    "T = [4,6,8,10,12,14,16] # T in the eq.\n",
    "phi =  900 #[200,400,600,800,1000,1200,1400,1600,1800,2000] # traffic flow per line (veh/hr)\n",
    "uB= 1184.9 # (μB): Service rate at a merging point: when merging occurs\n",
    "u0 = 3017.1 # (μ0): Service rate at a merging point: when merging does not occur \n",
    "uA = 350 # (μA): Service rate at a tollbooth \n",
    "N = 1 # Number of incoming lanes\n",
    "#nextCarArrive = [ random.expovariate(1 / flow) for _ in range(40) ]"
   ]
  },
  {
   "cell_type": "markdown",
   "metadata": {},
   "source": [
    "### Tollbooth Wasted Time"
   ]
  },
  {
   "cell_type": "code",
   "execution_count": 450,
   "metadata": {},
   "outputs": [],
   "source": [
    "# Define the tollbooth System Object\n",
    "\n",
    "system_t = System(uA = uA,\n",
    "                  phi = phi,\n",
    "                  T = T\n",
    "                 )"
   ]
  },
  {
   "cell_type": "code",
   "execution_count": 451,
   "metadata": {},
   "outputs": [
    {
     "data": {
      "text/html": [
       "<div>\n",
       "<style scoped>\n",
       "    .dataframe tbody tr th:only-of-type {\n",
       "        vertical-align: middle;\n",
       "    }\n",
       "\n",
       "    .dataframe tbody tr th {\n",
       "        vertical-align: top;\n",
       "    }\n",
       "\n",
       "    .dataframe thead th {\n",
       "        text-align: right;\n",
       "    }\n",
       "</style>\n",
       "<table border=\"1\" class=\"dataframe\">\n",
       "  <thead>\n",
       "    <tr style=\"text-align: right;\">\n",
       "      <th></th>\n",
       "      <th>values</th>\n",
       "    </tr>\n",
       "  </thead>\n",
       "  <tbody>\n",
       "    <tr>\n",
       "      <th>4</th>\n",
       "      <td>28.800000</td>\n",
       "    </tr>\n",
       "    <tr>\n",
       "      <th>6</th>\n",
       "      <td>18.000000</td>\n",
       "    </tr>\n",
       "    <tr>\n",
       "      <th>8</th>\n",
       "      <td>15.157895</td>\n",
       "    </tr>\n",
       "    <tr>\n",
       "      <th>10</th>\n",
       "      <td>13.846154</td>\n",
       "    </tr>\n",
       "    <tr>\n",
       "      <th>12</th>\n",
       "      <td>13.090909</td>\n",
       "    </tr>\n",
       "    <tr>\n",
       "      <th>14</th>\n",
       "      <td>12.600000</td>\n",
       "    </tr>\n",
       "    <tr>\n",
       "      <th>16</th>\n",
       "      <td>12.255319</td>\n",
       "    </tr>\n",
       "  </tbody>\n",
       "</table>\n",
       "</div>"
      ],
      "text/plain": [
       "4     28.800000\n",
       "6     18.000000\n",
       "8     15.157895\n",
       "10    13.846154\n",
       "12    13.090909\n",
       "14    12.600000\n",
       "16    12.255319\n",
       "dtype: float64"
      ]
     },
     "execution_count": 451,
     "metadata": {},
     "output_type": "execute_result"
    }
   ],
   "source": [
    "#################################\n",
    "# Calculate Tollbooth Wasted Time \n",
    "################################\n",
    "\n",
    "def WA(system_t):\n",
    "    \"\"\"\n",
    "    This function will calculate the tollbooth wasted time WA, it will return WA for every T's\n",
    "    Phi : # traffic flow per line (veh/hr)\n",
    "    T : # of tollbooths in the eq. we'll test different values of T\n",
    "    uA: Service rate at a tollbooth \n",
    "    \n",
    "    \"\"\"\n",
    "    sweep_wa = SweepSeries()\n",
    "    for i in T:\n",
    "        sweep_wa[i] = (1/(uA - (phi/i)))*60*60 # sec/veh\n",
    "    return sweep_wa\n",
    "\n",
    "WA(system_t)"
   ]
  },
  {
   "cell_type": "markdown",
   "metadata": {},
   "source": [
    "### Merging Wasted Time"
   ]
  },
  {
   "cell_type": "code",
   "execution_count": 452,
   "metadata": {},
   "outputs": [],
   "source": [
    "# Define the merging System Object\n",
    "system_m = System(uA = uA,\n",
    "         uB = uB,\n",
    "         phi = phi,\n",
    "         u0 = u0,\n",
    "         T=T\n",
    "        )"
   ]
  },
  {
   "cell_type": "code",
   "execution_count": 581,
   "metadata": {},
   "outputs": [
    {
     "data": {
      "text/html": [
       "<div>\n",
       "<style scoped>\n",
       "    .dataframe tbody tr th:only-of-type {\n",
       "        vertical-align: middle;\n",
       "    }\n",
       "\n",
       "    .dataframe tbody tr th {\n",
       "        vertical-align: top;\n",
       "    }\n",
       "\n",
       "    .dataframe thead th {\n",
       "        text-align: right;\n",
       "    }\n",
       "</style>\n",
       "<table border=\"1\" class=\"dataframe\">\n",
       "  <thead>\n",
       "    <tr style=\"text-align: right;\">\n",
       "      <th></th>\n",
       "      <th>values</th>\n",
       "    </tr>\n",
       "  </thead>\n",
       "  <tbody>\n",
       "    <tr>\n",
       "      <th>4</th>\n",
       "      <td>8.018109</td>\n",
       "    </tr>\n",
       "    <tr>\n",
       "      <th>6</th>\n",
       "      <td>9.354460</td>\n",
       "    </tr>\n",
       "    <tr>\n",
       "      <th>8</th>\n",
       "      <td>10.022636</td>\n",
       "    </tr>\n",
       "    <tr>\n",
       "      <th>10</th>\n",
       "      <td>10.423541</td>\n",
       "    </tr>\n",
       "    <tr>\n",
       "      <th>12</th>\n",
       "      <td>10.690811</td>\n",
       "    </tr>\n",
       "    <tr>\n",
       "      <th>14</th>\n",
       "      <td>10.881719</td>\n",
       "    </tr>\n",
       "    <tr>\n",
       "      <th>16</th>\n",
       "      <td>11.024899</td>\n",
       "    </tr>\n",
       "  </tbody>\n",
       "</table>\n",
       "</div>"
      ],
      "text/plain": [
       "4      8.018109\n",
       "6      9.354460\n",
       "8     10.022636\n",
       "10    10.423541\n",
       "12    10.690811\n",
       "14    10.881719\n",
       "16    11.024899\n",
       "dtype: float64"
      ]
     },
     "execution_count": 581,
     "metadata": {},
     "output_type": "execute_result"
    }
   ],
   "source": [
    "#################################\n",
    "# Calculate Merging Wasted Time \n",
    "################################\n",
    "\n",
    "def tdiff(system_m):\n",
    "        \"\"\"\n",
    "    This function will calculate the average wasted time tdiff from eq.2\n",
    "    Phi : # traffic flow per line (veh/hr)\n",
    "    T : # of tollbooths in the eq. we'll test different values of T\n",
    "    (uA): Service rate at a tollbooth\n",
    "    (μB): Service rate at a merging point: when merging occurs\n",
    "    (μ0): Service rate at a merging point: when merging does not occur \n",
    "    N = 1 # Number of incoming lanes\n",
    "    \"\"\"\n",
    "    \n",
    "    lamda = []\n",
    "    tdiff_list = SweepSeries()\n",
    "    \n",
    "    for i in T:\n",
    "        m = (i - N + 1)+1 # to define the k range [2, T−N+ 1], +1 to include the last value\n",
    "        r =1\n",
    "        if i == 6:\n",
    "            break\n",
    "        for k in range(2,m,1):\n",
    "            lamda.append((k/i)*phi)\n",
    "            for l in lamda:\n",
    "                tdiff_list[l] = ((1/(uB - l)) + ((uB-u0)/(l*(uB-u0)+u0*uB)) - 1/u0)*60*60                                    \n",
    "    return tdiff_list\n",
    "\n",
    "def WB(T):\n",
    "       \"\"\"\n",
    "    This function using T and tdiff function to calculate the merging wasted time WB\n",
    "    T : Number of tollbooths\n",
    "    \"\"\"\n",
    "    r = 1\n",
    "    WB = SweepSeries()\n",
    "    for i in T:\n",
    "        for j in tdiff(system_m):\n",
    "            WB[i] = sum(((r+1)/i)*j)\n",
    "            r +=1\n",
    "    return WB   \n",
    "\n",
    "tdiff(system_m)"
   ]
  },
  {
   "cell_type": "markdown",
   "metadata": {},
   "source": [
    "### Total Wasted Time"
   ]
  },
  {
   "cell_type": "code",
   "execution_count": 594,
   "metadata": {},
   "outputs": [
    {
     "name": "stdout",
     "output_type": "stream",
     "text": [
      "4     36.818109\n",
      "6     27.354460\n",
      "8     25.180530\n",
      "10    24.269695\n",
      "12    23.781721\n",
      "14    23.481719\n",
      "16    23.280218\n",
      "dtype: float64\n"
     ]
    }
   ],
   "source": [
    "#################################\n",
    "# Calculate The total Wasted Time \n",
    "################################\n",
    "\n",
    "W_total = WB(T) + WA(system_t) # eq.4\n",
    "print(W_total)"
   ]
  },
  {
   "cell_type": "code",
   "execution_count": 595,
   "metadata": {},
   "outputs": [
    {
     "data": {
      "image/png": "[encoded data removed]",
      "text/plain": [
       "<Figure size 432x288 with 1 Axes>"
      ]
     },
     "metadata": {
      "needs_background": "light"
     },
     "output_type": "display_data"
    }
   ],
   "source": [
    "################################################\n",
    "# Graph Average Wasted vs the Number of Tollboth \n",
    "################################################\n",
    "\n",
    "y1 = WB(T)\n",
    "y2 = WA(system_t)\n",
    "plot(T, W_total, '-', label='Total')\n",
    "plot(T, y1, '+', label='Merging')\n",
    "plot(T, y2, '--', label='Merging')\n",
    "decorate(xlabel='Number of Tollbooths',\n",
    "         ylabel='Average Wasted Time (sec)',\n",
    "         title='Average Wasted Time when N = 1, Φ/N = 900.')\n"
   ]
  },
  {
   "cell_type": "markdown",
   "metadata": {},
   "source": [
    "### Conclusion"
   ]
  },
  {
   "cell_type": "markdown",
   "metadata": {},
   "source": [
    "The above plot shows the wasted times for different vaules of T. We can clearly see that thetotal delay is minimum for the configurationT=6. Hence 6 tollbooths is the optimal solutionfor the given highway facility.\n",
    "\n",
    "**Model Improvment:** \n",
    "\n",
    "To improve the model the following elements points will need to be considered:\n",
    "\n",
    "- The drivers are delayed by toll collection, and the delay is distributed exponentially.\n",
    "- The time between two cars entering the toll plaza also distributed exponentially.\n"
   ]
  },
  {
   "cell_type": "markdown",
   "metadata": {},
   "source": [
    "**Referencens**\n",
    "\n",
    "- Modelling toll plaza behavior using queuing theory, 2011. [Accessed 25 August 2011](https://sites.math.washington.edu/~morrow/mcm/cary05.pdf).\n",
    "- Modeling and Simulation in Python, Allen B. Downey"
   ]
  },
  {
   "cell_type": "code",
   "execution_count": null,
   "metadata": {},
   "outputs": [],
   "source": []
  }
 ],
 "metadata": {
  "kernelspec": {
   "display_name": "Python 3",
   "language": "python",
   "name": "python3"
  },
  "language_info": {
   "codemirror_mode": {
    "name": "ipython",
    "version": 3
   },
   "file_extension": ".py",
   "mimetype": "text/x-python",
   "name": "python",
   "nbconvert_exporter": "python",
   "pygments_lexer": "ipython3",
   "version": "3.7.6"
  }
 },
 "nbformat": 4,
 "nbformat_minor": 4
}
